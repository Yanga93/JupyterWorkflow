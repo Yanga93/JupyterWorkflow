{
 "cells": [
  {
   "cell_type": "markdown",
   "metadata": {},
   "source": [
    "# EXERCISE - ABSTRACTION AND ENCAPSULATION\n",
    "\n",
    "Write a program to\n",
    "provide layers of abstraction for a car rental system.\n",
    "Your program should perform the following:\n",
    "    \n",
    "1. Hatchback, Sedan, SUV should be type of cars that are\n",
    "being provided for rent\n",
    "2. Cost per day:\n",
    "Hatchback - $30\n",
    "Sedan- $50\n",
    "SUV - $100\n",
    "3. Give a prompt to the customer asking him the type of car\n",
    "and the number of days he would like to borrow and provide the\n",
    "fare details to the user.\n",
    "\n"
   ]
  },
  {
   "cell_type": "code",
   "execution_count": null,
   "metadata": {},
   "outputs": [],
   "source": [
    "#class ==> carRental\n",
    "#Layers of abstraction ==> displayCarsForRental, lendCar\n"
   ]
  },
  {
   "cell_type": "code",
   "execution_count": 38,
   "metadata": {},
   "outputs": [
    {
     "name": "stdout",
     "output_type": "stream",
     "text": [
      "AVAILABLE CARS TO RENT \n",
      "Hacthback car available for: R30 per day\n",
      "Sedan car available for: R50 per day\n",
      "SUV car available for: R100 per day\n",
      "==================================================================\n",
      "Place your order \n",
      "Enter car to hire: SUV\n",
      "Enter number of days to hire: 9\n",
      "====================================================================\n",
      "YOUR FARE DETAILS\n",
      "You have hired a car type SUV for 9 days at cost of R900\n"
     ]
    }
   ],
   "source": [
    "class carRental:\n",
    "    \n",
    "    #instance attributes\n",
    "    def __init__(self, hatchback, sedan, suv):\n",
    "        self.hatchback = 30\n",
    "        self.sedan = 50\n",
    "        self.suv = 100\n",
    "        \n",
    "    \n",
    "    #instance method\n",
    "    def displayCarForRental(self):\n",
    "        print('AVAILABLE CARS TO RENT ')\n",
    "        print (\"Hacthback car available for: R{} per day\".format(self.hatchback))\n",
    "        print (\"Sedan car available for: R{} per day\".format(self.sedan))\n",
    "        print (\"SUV car available for: R{} per day\".format(self.suv))\n",
    "        print('==================================================================')\n",
    "        \n",
    "    def lendCar(self):\n",
    "        print('Place your order ')\n",
    "        car = str(input('Enter car to hire: '))\n",
    "        days = int(input('Enter number of days to hire: '))\n",
    "        print('====================================================================')\n",
    "        print('YOUR FARE DETAILS')\n",
    "        \n",
    "        if car == 'Hatchback':\n",
    "            fare_results = self.hatchback * days\n",
    "            print('You have hired a car type {} for {} days at cost of R{}'.format(car,days,fare_results))\n",
    "                \n",
    "        elif car == 'Sedan':\n",
    "            fare_results = self.sedan * days\n",
    "            print('You have hired a car type {} for {} days at cost of R{}'.format(car,days,fare_results))\n",
    "            \n",
    "        elif car == 'SUV':\n",
    "            fare_results = self.suv * days\n",
    "            print('You have hired a car type {} for {} days at cost of R{}'.format(car,days,fare_results))\n",
    "            \n",
    "        else:\n",
    "            car == ' '\n",
    "            print('No car type has been requested')\n",
    "\n",
    "    \n",
    "#instantiate the carRental class    \n",
    "car_rental = carRental('hatchback', 'sedan', 'suv' )\n",
    "\n",
    "#call the instance methods for carRental classs\n",
    "car_rental.displayCarForRental()\n",
    "car_rental.lendCar()\n"
   ]
  },
  {
   "cell_type": "code",
   "execution_count": 21,
   "metadata": {},
   "outputs": [],
   "source": []
  }
 ],
 "metadata": {
  "kernelspec": {
   "display_name": "Python 3",
   "language": "python",
   "name": "python3"
  },
  "language_info": {
   "codemirror_mode": {
    "name": "ipython",
    "version": 3
   },
   "file_extension": ".py",
   "mimetype": "text/x-python",
   "name": "python",
   "nbconvert_exporter": "python",
   "pygments_lexer": "ipython3",
   "version": "3.6.5"
  }
 },
 "nbformat": 4,
 "nbformat_minor": 2
}
