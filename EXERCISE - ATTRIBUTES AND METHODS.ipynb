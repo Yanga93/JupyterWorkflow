{
 "cells": [
  {
   "cell_type": "markdown",
   "metadata": {},
   "source": [
    "# EXERCISE - ATTRIBUTES AND METHODS\n",
    "\n",
    "\n",
    "Write an object oriented program to:\n",
    "\n",
    "1. create a precious stone.\n",
    "\n",
    "2. Not more than 5 precious stones can be held in possession at a\n",
    "   given point of time. \n",
    "   \n",
    "3. If there are more than 5 precious stones,\n",
    "   delete the first stone.\n",
    "   \n",
    "4. Store the new one."
   ]
  },
  {
   "cell_type": "code",
   "execution_count": 1,
   "metadata": {},
   "outputs": [
    {
     "name": "stdout",
     "output_type": "stream",
     "text": [
      "Maximum number of Stones to be created :  3\n",
      "Enter Precious Stone 1:  fdfdf\n",
      "['fdfdf']\n",
      "Enter Precious Stone 2:  dfdfd\n",
      "['fdfdf', 'dfdfd']\n",
      "Enter Precious Stone 3:  dfdfd\n",
      "['fdfdf', 'dfdfd', 'dfdfd']\n"
     ]
    },
    {
     "data": {
      "text/plain": [
       "['fdfdf', 'dfdfd', 'dfdfd']"
      ]
     },
     "execution_count": 1,
     "metadata": {},
     "output_type": "execute_result"
    }
   ],
   "source": [
    "class Stone:\n",
    "    \n",
    "    # instance attribute\n",
    "    def __init__(self, name):\n",
    "        self.name = name\n",
    "        \n",
    "        \n",
    "class Container:\n",
    "    def __init__(self, stone_list):\n",
    "        self.stone_list = []\n",
    "        \n",
    "    #instance method\n",
    "    def addStone(self):\n",
    "        max_list = int(input('Maximum number of Stones to be created :  '))\n",
    "        i = 0\n",
    "        \n",
    "        while len(self.stone_list) < max_list:\n",
    "            i += 1\n",
    "            stone = input('Enter Precious Stone %d:  '%i)\n",
    "            if stone == '':\n",
    "                break\n",
    "            self.stone_list.append(stone)\n",
    "            print(self.stone_list)\n",
    "        return self.stone_list\n",
    "    \n",
    "    \n",
    "    def delFirstStone(self):\n",
    "        pass\n",
    "        #print(self.stone_list)\n",
    "#         for gem_stone in stone_list:\n",
    "#             if len(stone_list) == max_list:\n",
    "#                 first_stone = len(stone_list) - max_list\n",
    "#                 stone_list.pop(first_stone)\n",
    "#                 #print(stone_list)\n",
    "#             else:\n",
    "#                 break\n",
    "    \n",
    "    def storeNewPreStone(self):\n",
    "        pass\n",
    "    \n",
    "\n",
    "\n",
    "# instantiate the PreciousStone class\n",
    "#gem_stones = Prec_Stone(\"Gem\")\n",
    "stone = Stone(\"Gem\")\n",
    "stone.name\n",
    "\n",
    "# instantiate the Container class\n",
    "holder = Container(stone)\n",
    "holder.addStone()\n",
    "#holder.delFirstStone()\n"
   ]
  },
  {
   "cell_type": "code",
   "execution_count": null,
   "metadata": {},
   "outputs": [],
   "source": []
  },
  {
   "cell_type": "code",
   "execution_count": null,
   "metadata": {},
   "outputs": [],
   "source": []
  },
  {
   "cell_type": "code",
   "execution_count": null,
   "metadata": {},
   "outputs": [],
   "source": [
    "stone_list = []\n",
    "max_list = 5\n",
    "i = 0\n",
    "\n",
    "while len(stone_list) < max_list:\n",
    "    i += 1\n",
    "    stone = input('Enter Precious Stone %d:  '%i)\n",
    "    if stone == '':\n",
    "        break\n",
    "    stone_list.append(stone)\n",
    "print(stone_list)\n",
    "    \n",
    "\n",
    "# Blue Diamond – $3.93 million per carat\n",
    "# Musgravite – $35,000 per carat\n",
    "# Jadeite – $20,000 per carat\n",
    "# Alexandrite – $12,000 per carat\n",
    "# Red Beryl – $10,000 per caratblue\n",
    "# Padparadscha Sapphire – $8,000 per carat\n",
    "# Benitoite – $3,800 per carat\n",
    "# Black Opal – $3,500 per carat\n",
    "# Demantoid Garnet – $3,300 per carat\n",
    "# Taaffeite – $2,500 per carat\n",
    "    \n"
   ]
  },
  {
   "cell_type": "code",
   "execution_count": null,
   "metadata": {},
   "outputs": [],
   "source": [
    "# diamond = Prec_Stone(\"Diamond\")\n",
    "# ruby = Prec_Stone(\"Ruby\")\n",
    "\n",
    "#access the class attributes\n",
    "#print(\"Gem is a: {}\".format(gem_stones. __class__ .stone))\n",
    "# print(\"Diamond is a: {}\".format(diamond.__class__.stone))\n",
    "# print(\"Ruby is a: {}\".format(ruby.__class__.stone))    "
   ]
  },
  {
   "cell_type": "code",
   "execution_count": 13,
   "metadata": {},
   "outputs": [
    {
     "name": "stdout",
     "output_type": "stream",
     "text": [
      "0\n"
     ]
    }
   ],
   "source": [
    "print(len(stone_list) - 5)"
   ]
  },
  {
   "cell_type": "code",
   "execution_count": 25,
   "metadata": {},
   "outputs": [
    {
     "name": "stdout",
     "output_type": "stream",
     "text": [
      "Blue Diamond\n",
      "Black Diamond\n"
     ]
    },
    {
     "ename": "NameError",
     "evalue": "name 'myInstaces' is not defined",
     "output_type": "error",
     "traceback": [
      "\u001b[0;31m---------------------------------------------------------------------------\u001b[0m",
      "\u001b[0;31mNameError\u001b[0m                                 Traceback (most recent call last)",
      "\u001b[0;32m<ipython-input-25-4e59f0d74693>\u001b[0m in \u001b[0;36m<module>\u001b[0;34m()\u001b[0m\n\u001b[1;32m     13\u001b[0m     \u001b[0mprint\u001b[0m\u001b[0;34m(\u001b[0m\u001b[0mthisObj\u001b[0m\u001b[0;34m.\u001b[0m\u001b[0mname\u001b[0m\u001b[0;34m)\u001b[0m\u001b[0;34m\u001b[0m\u001b[0m\n\u001b[1;32m     14\u001b[0m \u001b[0;34m\u001b[0m\u001b[0m\n\u001b[0;32m---> 15\u001b[0;31m \u001b[0mprint\u001b[0m\u001b[0;34m(\u001b[0m\u001b[0mlen\u001b[0m\u001b[0;34m(\u001b[0m\u001b[0mmyInstaces\u001b[0m\u001b[0;34m)\u001b[0m\u001b[0;34m)\u001b[0m\u001b[0;34m\u001b[0m\u001b[0m\n\u001b[0m",
      "\u001b[0;31mNameError\u001b[0m: name 'myInstaces' is not defined"
     ]
    }
   ],
   "source": [
    "class myClass:\n",
    "    myInstances = []\n",
    "    def __init__(self, name):\n",
    "        self.name = name\n",
    "        self.__class__.myInstances.append(self)\n",
    "        \n",
    "        \n",
    "myObj1 = myClass(\"Blue Diamond\")\n",
    "myObj2 = myClass(\"Black Diamond\")\n",
    "\n",
    "\n",
    "for thisObj in myClass.myInstances:\n",
    "    print(thisObj.name)\n",
    "\n"
   ]
  },
  {
   "cell_type": "code",
   "execution_count": null,
   "metadata": {},
   "outputs": [],
   "source": []
  }
 ],
 "metadata": {
  "kernelspec": {
   "display_name": "Python 3",
   "language": "python",
   "name": "python3"
  },
  "language_info": {
   "codemirror_mode": {
    "name": "ipython",
    "version": 3
   },
   "file_extension": ".py",
   "mimetype": "text/x-python",
   "name": "python",
   "nbconvert_exporter": "python",
   "pygments_lexer": "ipython3",
   "version": "3.6.5"
  }
 },
 "nbformat": 4,
 "nbformat_minor": 2
}
