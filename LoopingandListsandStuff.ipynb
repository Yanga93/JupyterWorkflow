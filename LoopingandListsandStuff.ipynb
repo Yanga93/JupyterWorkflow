{
 "cells": [
  {
   "cell_type": "markdown",
   "metadata": {},
   "source": [
    "# Looping and Lists and stuff"
   ]
  },
  {
   "cell_type": "markdown",
   "metadata": {},
   "source": [
    "# Section 1: working with loops"
   ]
  },
  {
   "cell_type": "markdown",
   "metadata": {},
   "source": [
    "## Read the instructions, then _add one line of code_ to complete the functions below"
   ]
  },
  {
   "cell_type": "markdown",
   "metadata": {},
   "source": [
    "### Function 1\n",
    "The function `letters_one` takes in a `string` as an argument, and then `prints` out each letter on a new line.\n",
    "\n",
    "**Note** do not `return` anything, only `print`. Do not change our code. Only add *ONE LINE* of code."
   ]
  },
  {
   "cell_type": "code",
   "execution_count": 1,
   "metadata": {
    "nbgrader": {
     "grade": false,
     "grade_id": "cell-a4742f59416f3b2b",
     "locked": false,
     "schema_version": 1,
     "solution": true
    }
   },
   "outputs": [],
   "source": [
    "def letters_one(word):\n",
    "    for i in word:\n",
    "        \n",
    "        print(i)\n",
    "        #Add your line of code below here#\n",
    "        \n",
    "        #Add your line of code above here#\n"
   ]
  },
  {
   "cell_type": "code",
   "execution_count": 2,
   "metadata": {
    "nbgrader": {
     "grade": false,
     "grade_id": "cell-a4742f59416f3b2b",
     "locked": false,
     "schema_version": 1,
     "solution": true
    }
   },
   "outputs": [
    {
     "name": "stdout",
     "output_type": "stream",
     "text": [
      "E\n",
      "x\n",
      "p\n",
      "l\n",
      "o\n",
      "r\n",
      "e\n"
     ]
    }
   ],
   "source": [
    "letters_one('Explore')"
   ]
  },
  {
   "cell_type": "code",
   "execution_count": 3,
   "metadata": {
    "nbgrader": {
     "grade": false,
     "grade_id": "cell-a4742f59416f3b2b",
     "locked": false,
     "schema_version": 1,
     "solution": true
    },
    "scrolled": true
   },
   "outputs": [
    {
     "name": "stdout",
     "output_type": "stream",
     "text": [
      "2\n",
      "w\n",
      "3\n",
      "v\n",
      "c\n",
      "7\n",
      "8\n",
      "u\n"
     ]
    }
   ],
   "source": [
    "letters_one('2w3vc78u')"
   ]
  },
  {
   "cell_type": "markdown",
   "metadata": {
    "nbgrader": {
     "grade": false,
     "grade_id": "cell-a4742f59416f3b2b",
     "locked": false,
     "schema_version": 1,
     "solution": true
    }
   },
   "source": [
    "### Function 2\n",
    "The function `letters_two` takes in a `string` as an argument, and then `prints` out each letter on a new line.\n",
    "\n",
    "**Note** do not `return` anything, only `print`. Do not change our code. Only add *ONE LINE* of code."
   ]
  },
  {
   "cell_type": "code",
   "execution_count": 6,
   "metadata": {
    "nbgrader": {
     "grade": false,
     "grade_id": "cell-a4742f59416f3b2b",
     "locked": false,
     "schema_version": 1,
     "solution": true
    }
   },
   "outputs": [],
   "source": [
    "def letters_two(word):\n",
    "    for i in range(len(word)):\n",
    "        #Add your line of code below here#\n",
    "        print(word[i])\n",
    "        \n",
    "        #Add your line of code above here#"
   ]
  },
  {
   "cell_type": "code",
   "execution_count": 7,
   "metadata": {
    "nbgrader": {
     "grade": false,
     "grade_id": "cell-a4742f59416f3b2b",
     "locked": false,
     "schema_version": 1,
     "solution": true
    }
   },
   "outputs": [
    {
     "name": "stdout",
     "output_type": "stream",
     "text": [
      "E\n",
      "r\n",
      "o\n",
      "l\n",
      "p\n",
      "x\n",
      "e\n"
     ]
    }
   ],
   "source": [
    "letters_two('Erolpxe')"
   ]
  },
  {
   "cell_type": "code",
   "execution_count": 8,
   "metadata": {
    "nbgrader": {
     "grade": false,
     "grade_id": "cell-a4742f59416f3b2b",
     "locked": false,
     "schema_version": 1,
     "solution": true
    }
   },
   "outputs": [
    {
     "name": "stdout",
     "output_type": "stream",
     "text": [
      "u\n",
      "8\n",
      "7\n",
      "c\n",
      "v\n",
      "3\n",
      "w\n",
      "2\n"
     ]
    }
   ],
   "source": [
    "letters_two('u87cv3w2')"
   ]
  },
  {
   "cell_type": "markdown",
   "metadata": {
    "nbgrader": {
     "grade": false,
     "grade_id": "cell-a4742f59416f3b2b",
     "locked": false,
     "schema_version": 1,
     "solution": true
    }
   },
   "source": [
    "### Function 3\n",
    "The function `items_one` takes in a `List` as an argument, and then `prints` out each item on a new line.\n",
    "\n",
    "**Note** do not `return` anything, only `print`. Do not change our code. Only add *ONE LINE* of code."
   ]
  },
  {
   "cell_type": "code",
   "execution_count": 9,
   "metadata": {
    "nbgrader": {
     "grade": false,
     "grade_id": "cell-a4742f59416f3b2b",
     "locked": false,
     "schema_version": 1,
     "solution": true
    }
   },
   "outputs": [],
   "source": [
    "def items_one(a_list):\n",
    "    for i in a_list:\n",
    "        #Add your line of code below here#\n",
    "        print(i)\n",
    "        \n",
    "        #Add your line of code above here#"
   ]
  },
  {
   "cell_type": "code",
   "execution_count": 10,
   "metadata": {
    "nbgrader": {
     "grade": false,
     "grade_id": "cell-a4742f59416f3b2b",
     "locked": false,
     "schema_version": 1,
     "solution": true
    },
    "scrolled": true
   },
   "outputs": [
    {
     "name": "stdout",
     "output_type": "stream",
     "text": [
      "E\n",
      "x\n",
      "p\n",
      "l\n",
      "o\n",
      "r\n",
      "e\n"
     ]
    }
   ],
   "source": [
    "items_one(['E','x','p','l','o','r','e'])"
   ]
  },
  {
   "cell_type": "code",
   "execution_count": 11,
   "metadata": {
    "nbgrader": {
     "grade": false,
     "grade_id": "cell-a4742f59416f3b2b",
     "locked": false,
     "schema_version": 1,
     "solution": true
    },
    "scrolled": true
   },
   "outputs": [
    {
     "name": "stdout",
     "output_type": "stream",
     "text": [
      "2\n",
      "w\n",
      "3\n",
      "v\n",
      "c\n",
      "7\n",
      "8\n",
      "u\n"
     ]
    }
   ],
   "source": [
    "items_one(['2','w','3','v','c','7','8','u'])"
   ]
  },
  {
   "cell_type": "markdown",
   "metadata": {
    "nbgrader": {
     "grade": false,
     "grade_id": "cell-a4742f59416f3b2b",
     "locked": false,
     "schema_version": 1,
     "solution": true
    }
   },
   "source": [
    "### Function 4\n",
    "The function `items_two` takes in a `List` as an argument, and then `prints` out each item on a new line.\n",
    "\n",
    "**note** do not `return` anything, only `print`. Do not change our code. Only add *ONE LINE* of code."
   ]
  },
  {
   "cell_type": "code",
   "execution_count": 12,
   "metadata": {
    "nbgrader": {
     "grade": false,
     "grade_id": "cell-a4742f59416f3b2b",
     "locked": false,
     "schema_version": 1,
     "solution": true
    }
   },
   "outputs": [],
   "source": [
    "def items_two(a_list):\n",
    "    for i in range(len(a_list)):\n",
    "        #Add your line of code below here#\n",
    "        print(a_list[i])\n",
    "        \n",
    "        #Add your line of code above here#"
   ]
  },
  {
   "cell_type": "code",
   "execution_count": 13,
   "metadata": {
    "nbgrader": {
     "grade": false,
     "grade_id": "cell-a4742f59416f3b2b",
     "locked": false,
     "schema_version": 1,
     "solution": true
    }
   },
   "outputs": [
    {
     "name": "stdout",
     "output_type": "stream",
     "text": [
      "E\n",
      "r\n",
      "o\n",
      "l\n",
      "p\n",
      "x\n",
      "e\n"
     ]
    }
   ],
   "source": [
    "items_two(['E','r','o','l','p','x','e'])"
   ]
  },
  {
   "cell_type": "code",
   "execution_count": 14,
   "metadata": {
    "nbgrader": {
     "grade": false,
     "grade_id": "cell-a4742f59416f3b2b",
     "locked": false,
     "schema_version": 1,
     "solution": true
    },
    "scrolled": true
   },
   "outputs": [
    {
     "name": "stdout",
     "output_type": "stream",
     "text": [
      "u\n",
      "8\n",
      "7\n",
      "c\n",
      "v\n",
      "3\n",
      "w\n",
      "2\n"
     ]
    }
   ],
   "source": [
    "items_two(['u','8','7','c','v','3','w','2'])"
   ]
  },
  {
   "cell_type": "markdown",
   "metadata": {
    "nbgrader": {
     "grade": false,
     "grade_id": "cell-a4742f59416f3b2b",
     "locked": false,
     "schema_version": 1,
     "solution": true
    }
   },
   "source": [
    "# Section 2: Manipulating Lists"
   ]
  },
  {
   "cell_type": "markdown",
   "metadata": {
    "nbgrader": {
     "grade": false,
     "grade_id": "cell-a4742f59416f3b2b",
     "locked": false,
     "schema_version": 1,
     "solution": true
    }
   },
   "source": [
    "## Read the instructions, then complete the functions|"
   ]
  },
  {
   "cell_type": "markdown",
   "metadata": {
    "nbgrader": {
     "grade": false,
     "grade_id": "cell-a4742f59416f3b2b",
     "locked": false,
     "schema_version": 1,
     "solution": true
    }
   },
   "source": [
    "### Function 1\n",
    "The function `string_to_list` takes in a `String` as a parameter and `returns` a list where each item is a character in the `String`.\n",
    "\n",
    "If we pass ```Hello``` to the function, then it must `return` ```['H','e','l','l','o']```\n",
    "\n",
    "**Note** the function **MUST** `return`. It must **not** `print`."
   ]
  },
  {
   "cell_type": "code",
   "execution_count": 19,
   "metadata": {
    "nbgrader": {
     "grade": false,
     "grade_id": "cell-a4742f59416f3b2b",
     "locked": false,
     "schema_version": 1,
     "solution": true
    }
   },
   "outputs": [],
   "source": [
    "def string_to_list(string_par):\n",
    "    #Add your code below here#\n",
    "    return list(string_par)\n",
    "    #Add your code above here#"
   ]
  },
  {
   "cell_type": "code",
   "execution_count": 20,
   "metadata": {
    "nbgrader": {
     "grade": false,
     "grade_id": "cell-a4742f59416f3b2b",
     "locked": false,
     "schema_version": 1,
     "solution": true
    }
   },
   "outputs": [
    {
     "data": {
      "text/plain": [
       "['E', 'x', 'p', 'l', 'o', 'r', 'e']"
      ]
     },
     "execution_count": 20,
     "metadata": {},
     "output_type": "execute_result"
    }
   ],
   "source": [
    "string_to_list('Explore')"
   ]
  },
  {
   "cell_type": "code",
   "execution_count": 21,
   "metadata": {
    "nbgrader": {
     "grade": false,
     "grade_id": "cell-a4742f59416f3b2b",
     "locked": false,
     "schema_version": 1,
     "solution": true
    }
   },
   "outputs": [
    {
     "data": {
      "text/plain": [
       "['2', 'w', '3', 'v', 'c', '7', '8', 'u']"
      ]
     },
     "execution_count": 21,
     "metadata": {},
     "output_type": "execute_result"
    }
   ],
   "source": [
    "string_to_list('2w3vc78u')"
   ]
  },
  {
   "cell_type": "markdown",
   "metadata": {
    "nbgrader": {
     "grade": false,
     "grade_id": "cell-a4742f59416f3b2b",
     "locked": false,
     "schema_version": 1,
     "solution": true
    }
   },
   "source": [
    "### Function 2\n",
    "The function `string_to_int_list` takes in a `String` of characters and digits as a parameter and `returns` a list called `digits_list` where each item the integer version of the digits in the string.\n",
    "\n",
    "If we pass ```'1ee7'``` to the function, then it must add `return` ```[1,7]``` (**NOT** ```['1','7']```)\n",
    "\n",
    "**Note** the function **MUST not** `print`.\n",
    "\n",
    "**Hint** you can test if a character is a digit using `isdigit()` e.g. `'2'.isdigit()` returns `True` but `'w'.isdigit()` returns `False`"
   ]
  },
  {
   "cell_type": "code",
   "execution_count": 74,
   "metadata": {
    "nbgrader": {
     "grade": false,
     "grade_id": "cell-a4742f59416f3b2b",
     "locked": false,
     "schema_version": 1,
     "solution": true
    }
   },
   "outputs": [],
   "source": [
    "def string_to_int_list(mixed_string):\n",
    "    digits_list = []\n",
    "    #Add your code below here#\n",
    "    mixed_string = list(mixed_string)\n",
    "    for item in mixed_string:\n",
    "        if item.isdigit():\n",
    "            digits_list.append(int(item))\n",
    "            \n",
    "    #Add your line of code above here#        \n",
    "    return digits_list\n",
    "    "
   ]
  },
  {
   "cell_type": "code",
   "execution_count": 75,
   "metadata": {
    "nbgrader": {
     "grade": false,
     "grade_id": "cell-a4742f59416f3b2b",
     "locked": false,
     "schema_version": 1,
     "solution": true
    }
   },
   "outputs": [
    {
     "data": {
      "text/plain": [
       "[2, 3, 7, 8]"
      ]
     },
     "execution_count": 75,
     "metadata": {},
     "output_type": "execute_result"
    }
   ],
   "source": [
    "string_to_int_list('2w3vc78u')"
   ]
  },
  {
   "cell_type": "code",
   "execution_count": 76,
   "metadata": {
    "nbgrader": {
     "grade": false,
     "grade_id": "cell-a4742f59416f3b2b",
     "locked": false,
     "schema_version": 1,
     "solution": true
    }
   },
   "outputs": [
    {
     "data": {
      "text/plain": [
       "[1, 3, 3, 7]"
      ]
     },
     "execution_count": 76,
     "metadata": {},
     "output_type": "execute_result"
    }
   ],
   "source": [
    "string_to_int_list('1337')"
   ]
  },
  {
   "cell_type": "code",
   "execution_count": null,
   "metadata": {},
   "outputs": [],
   "source": []
  }
 ],
 "metadata": {
  "celltoolbar": "Create Assignment",
  "kernelspec": {
   "display_name": "Python 3",
   "language": "python",
   "name": "python3"
  },
  "language_info": {
   "codemirror_mode": {
    "name": "ipython",
    "version": 3
   },
   "file_extension": ".py",
   "mimetype": "text/x-python",
   "name": "python",
   "nbconvert_exporter": "python",
   "pygments_lexer": "ipython3",
   "version": "3.6.5"
  },
  "toc": {
   "base_numbering": 1,
   "nav_menu": {},
   "number_sections": true,
   "sideBar": true,
   "skip_h1_title": false,
   "title_cell": "Table of Contents",
   "title_sidebar": "Contents",
   "toc_cell": false,
   "toc_position": {
    "height": "calc(100% - 180px)",
    "left": "10px",
    "top": "150px",
    "width": "384px"
   },
   "toc_section_display": true,
   "toc_window_display": true
  }
 },
 "nbformat": 4,
 "nbformat_minor": 2
}
