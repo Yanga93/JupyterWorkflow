{
 "cells": [
  {
   "cell_type": "markdown",
   "metadata": {
    "colab_type": "text",
    "id": "Y-iHJCekZ47N"
   },
   "source": [
    "## Project: Python Fundamentals\n",
    "\n",
    "You're appointed as a Software Developer at a new Development agency, \n",
    "\n",
    "In this project, you'll create software to give your clients financial advice."
   ]
  },
  {
   "cell_type": "markdown",
   "metadata": {
    "colab_type": "text",
    "id": "4OBoq2YHkZjj"
   },
   "source": [
    "***\n",
    "*** CODE OF CONDUCT: ***\n",
    "\n",
    "- You may use online resources for help, but you may not directly copy and paste any answers that are not your own.\n",
    "- You may not submit anyone else's work, but your own.\n",
    "- Every project will be sent through plagiarism detection software, and compared with every other project in the class.  If you are suspected of plagiarism you will receive zero for the assignment, together with a first disciplinary warning.\n",
    "\n",
    "***\n",
    "*** PROJECT RULES: ***\n",
    "\n",
    "- You may not import any external packages - all of the functions need to be solved ***WITHOUT THE USE OF EXTERNAL MODULES***.\n",
    "- ***Most importantly:*** your functions need to **`return`** the answer (not just print it out).\n",
    "- ***Do not add or remove any cells from this notebook***.  Use another notebook to experiment in (or in which to do your workings), but your submission may not have any additional cells or functions. \n",
    "- Only fill in code where the **`#YOUR CODE`**  tags appear. No code outside these areas (or outside the given functions) will be marked.\n",
    "\n"
   ]
  },
  {
   "cell_type": "markdown",
   "metadata": {
    "colab_type": "text",
    "id": "53GUiWszhw9R"
   },
   "source": [
    "## Function 1:  Savings Calculator\n",
    "\n",
    "Build a function **`savings_calculator(PMT, n, i)`**` that calculates your customer's savings at retirement, if they:\n",
    "- invest an amount, **`PMT`** at the end of every year (with the first payment in exactly one year's time from now),\n",
    "- for **`n` whole years**\n",
    "- at an interest rate of **`i`**% per year, compounded annually."
   ]
  },
  {
   "cell_type": "code",
   "execution_count": 7,
   "metadata": {
    "colab": {
     "autoexec": {
      "startup": false,
      "wait_interval": 0
     }
    },
    "colab_type": "code",
    "id": "o3HGpkBGZZcN"
   },
   "outputs": [
    {
     "name": "stdout",
     "output_type": "stream",
     "text": [
      "The future value at savings retirement would be: 635449.63\n",
      "The future value at savings retirement would be: 572749.99\n"
     ]
    },
    {
     "data": {
      "text/plain": [
       "572749.99"
      ]
     },
     "execution_count": 7,
     "metadata": {},
     "output_type": "execute_result"
    }
   ],
   "source": [
    "### START FUNCTION 1\n",
    "\n",
    "def savings_calculator(PMT, n, i):\n",
    "    \n",
    "    '''Calculates customers savings at retirement'''\n",
    "    #set future value to zero. \n",
    "    FV = 0\n",
    "    \n",
    "    #start the loop\n",
    "    for j in range(n):\n",
    "        interest =  FV * i\n",
    "        FV = FV + interest\n",
    "        FV = FV + PMT\n",
    "    \n",
    "\n",
    "    # Round FV to 2 decimal places:\n",
    "    FV = round(FV, 2)\n",
    "    print(f'The future value at savings retirement would be: {FV}')\n",
    "\n",
    "    return FV\n",
    "savings_calculator(20000, 15, 0.1)\n",
    "savings_calculator(10000, 20, 0.1)\n",
    "\n",
    "### END FUNCTION 1"
   ]
  },
  {
   "cell_type": "markdown",
   "metadata": {
    "colab_type": "text",
    "id": "0Hhs61WVkVfN"
   },
   "source": [
    "***IMPORTANT***: <br>\n",
    "Your function needs to **`return`** an `float` value ***rounded to 2 decimal places***.\n",
    "\n",
    "If your answer is not rounded correctly to 2 decimal places, you will receive 0 for the question.\n",
    "\n",
    "Make sure that the following tests all give a `True` result:"
   ]
  },
  {
   "cell_type": "code",
   "execution_count": 8,
   "metadata": {
    "colab": {
     "autoexec": {
      "startup": false,
      "wait_interval": 0
     }
    },
    "colab_type": "code",
    "id": "eAPFgCVAj7JQ"
   },
   "outputs": [
    {
     "name": "stdout",
     "output_type": "stream",
     "text": [
      "The future value at savings retirement would be: 635449.63\n"
     ]
    },
    {
     "data": {
      "text/plain": [
       "True"
      ]
     },
     "execution_count": 8,
     "metadata": {},
     "output_type": "execute_result"
    }
   ],
   "source": [
    "savings_calculator(20000, 15, 0.1) == 635449.63"
   ]
  },
  {
   "cell_type": "code",
   "execution_count": 9,
   "metadata": {
    "colab": {
     "autoexec": {
      "startup": false,
      "wait_interval": 0
     }
    },
    "colab_type": "code",
    "id": "CnbJ8HFakDM2"
   },
   "outputs": [
    {
     "name": "stdout",
     "output_type": "stream",
     "text": [
      "The future value at savings retirement would be: 572749.99\n"
     ]
    },
    {
     "data": {
      "text/plain": [
       "True"
      ]
     },
     "execution_count": 9,
     "metadata": {},
     "output_type": "execute_result"
    }
   ],
   "source": [
    "savings_calculator(10000, 20, 0.1) == 572749.99"
   ]
  },
  {
   "cell_type": "markdown",
   "metadata": {
    "colab_type": "text",
    "id": "42gFTL3qonAg"
   },
   "source": [
    "## Function 2:  Retirement Savings Calculator\n",
    "\n",
    "Build a function **`retirement_savings(PMT, i, start_age, end_age)`** that calculates your customer's savings at retirement, if they:\n",
    "- invest an amount, **`PMT`** at the end of every year (with the first payment made in exactly one year's time from now),\n",
    "- at an interest rate of **`i`**% per year, compounded annually.\n",
    "- They just turned **`start_age`** years old, and \n",
    "- they want to retire at the age of **`end_age`**\n",
    "\n",
    "<br><br>\n",
    "\n",
    "***IMPORTANT***: <br>\n",
    "Your function **may not call any of the other functions you've defined in this project** (i.e. you may not call `savings_calculator(PMT, n, i)` inside this function)\n",
    "\n",
    "You can assume that `start_age` < `end_age`, and both are positive integers."
   ]
  },
  {
   "cell_type": "code",
   "execution_count": 10,
   "metadata": {
    "colab": {
     "autoexec": {
      "startup": false,
      "wait_interval": 0
     }
    },
    "colab_type": "code",
    "id": "YJ4_S0poonAk"
   },
   "outputs": [
    {
     "name": "stdout",
     "output_type": "stream",
     "text": [
      "The future value at savings retirement would be: 635449.63\n",
      "The future value at savings retirement would be: 572749.99\n"
     ]
    },
    {
     "data": {
      "text/plain": [
       "572749.99"
      ]
     },
     "execution_count": 10,
     "metadata": {},
     "output_type": "execute_result"
    }
   ],
   "source": [
    "### START FUNCTION 2\n",
    "\n",
    "def retirement_savings(PMT, i, start_age, end_age):\n",
    "    '''Calculates customers savings at retirement'''\n",
    "    #set future value to zero. \n",
    "    FV = 0\n",
    "    n = end_age - start_age\n",
    "    \n",
    "    #start the loop\n",
    "    for j in range(n):\n",
    "        interest =  FV * i\n",
    "        FV = FV + interest\n",
    "        FV = FV + PMT\n",
    "    \n",
    "\n",
    "    # Round FV to 2 decimal places:\n",
    "    FV = round(FV, 2)\n",
    "    print(f'The future value at savings retirement would be: {FV}')\n",
    "\n",
    "    return FV\n",
    "\n",
    "retirement_savings(20000, 0.1, 20, 35)\n",
    "retirement_savings(10000, 0.1, 40, 60)\n",
    "\n",
    "### END FUNCTION 2"
   ]
  },
  {
   "cell_type": "markdown",
   "metadata": {
    "colab_type": "text",
    "id": "DA0Ndo3qonAs"
   },
   "source": [
    "***IMPORTANT***: <br>\n",
    "Your function needs to **`return`** an `float` value ***rounded to 2 decimal places***.\n",
    "\n",
    "If your answer is not rounded correctly to 2 decimal places, you will receive 0 for the question.\n",
    "\n",
    "Make sure that the following tests all give a `True` result:"
   ]
  },
  {
   "cell_type": "code",
   "execution_count": 11,
   "metadata": {
    "colab": {
     "autoexec": {
      "startup": false,
      "wait_interval": 0
     }
    },
    "colab_type": "code",
    "id": "6hY4vbnXonAx"
   },
   "outputs": [
    {
     "name": "stdout",
     "output_type": "stream",
     "text": [
      "The future value at savings retirement would be: 635449.63\n"
     ]
    },
    {
     "data": {
      "text/plain": [
       "True"
      ]
     },
     "execution_count": 11,
     "metadata": {},
     "output_type": "execute_result"
    }
   ],
   "source": [
    "retirement_savings(20000, 0.1, 20, 35) == 635449.63"
   ]
  },
  {
   "cell_type": "code",
   "execution_count": 12,
   "metadata": {
    "colab": {
     "autoexec": {
      "startup": false,
      "wait_interval": 0
     }
    },
    "colab_type": "code",
    "id": "dhUN8TYQonA7"
   },
   "outputs": [
    {
     "name": "stdout",
     "output_type": "stream",
     "text": [
      "The future value at savings retirement would be: 572749.99\n"
     ]
    },
    {
     "data": {
      "text/plain": [
       "True"
      ]
     },
     "execution_count": 12,
     "metadata": {},
     "output_type": "execute_result"
    }
   ],
   "source": [
    "retirement_savings(10000, 0.1, 40, 60) == 572749.99"
   ]
  },
  {
   "cell_type": "markdown",
   "metadata": {
    "colab_type": "text",
    "id": "mO1S--GUq1cz"
   },
   "source": [
    "## Function 3:  Retirement Age Calculator\n",
    "\n",
    "Build a function **`retirement_age(PMT, i, FV, start_age)`** that calculates the (whole) age at which your customer can retire, if they:\n",
    "- invest an amount, **`PMT`** at the END of every YEAR (with the first payment made exactly one year from now),\n",
    "- at an interest rate of **`i`**% per year, compounded annually.\n",
    "- They require an amount of AT LEAST **`FV`** in order to be able to afford retirement.\n",
    "- They just turned **`start_age`** years old.\n",
    "\n",
    "<br><br>\n",
    "\n",
    "***IMPORTANT***: <br>\n",
    "Your function **may not call any of the other functions you've defined in this project** (i.e. you may not call `savings_calculator(PMT, n, i)` or `retirement_savings(PMT, i, start_age, end_age)` inside this function)\n",
    "\n",
    "You can assume that `start_age` is a positive integer."
   ]
  },
  {
   "cell_type": "code",
   "execution_count": 13,
   "metadata": {
    "colab": {
     "autoexec": {
      "startup": false,
      "wait_interval": 0
     }
    },
    "colab_type": "code",
    "id": "28Y6c7hhq1c1"
   },
   "outputs": [
    {
     "data": {
      "text/plain": [
       "60"
      ]
     },
     "execution_count": 13,
     "metadata": {},
     "output_type": "execute_result"
    }
   ],
   "source": [
    "### START FUNCTION 3\n",
    "\n",
    "def retirement_age(PMT, i, FV, start_age):\n",
    "    ''' Calculates the (whole) age at which your customer can retire'''\n",
    "    \n",
    "    prev_amount = 0\n",
    "    number_of_periods = 0\n",
    "  \n",
    "    while prev_amount <= FV:\n",
    "        curr_interest = prev_amount * i\n",
    "        prev_amount = (prev_amount + curr_interest + PMT)\n",
    "        number_of_periods += 1\n",
    "        age = start_age + number_of_periods\n",
    "    return age\n",
    "\n",
    "retirement_age(20000, 0.1, 635339.63, 20)\n",
    "retirement_age(10000, 0.1, 572749.99, 40)\n",
    "\n",
    "### END FUNCTION 3"
   ]
  },
  {
   "cell_type": "code",
   "execution_count": null,
   "metadata": {},
   "outputs": [],
   "source": []
  },
  {
   "cell_type": "markdown",
   "metadata": {
    "colab_type": "text",
    "id": "fuSjDPB1q1c6"
   },
   "source": [
    "***IMPORTANT***: <br>\n",
    "Your function needs to **`return`** an **`int`** value ***rounded to 2 decimal places***.\n",
    "\n",
    "If your answer is not rounded correctly to 2 decimal places, you will receive 0 for the question.\n",
    "\n",
    "Make sure that the following tests all give a `True` result:"
   ]
  },
  {
   "cell_type": "code",
   "execution_count": 14,
   "metadata": {
    "colab": {
     "autoexec": {
      "startup": false,
      "wait_interval": 0
     }
    },
    "colab_type": "code",
    "id": "OcdkNDw1r-ez"
   },
   "outputs": [
    {
     "data": {
      "text/plain": [
       "True"
      ]
     },
     "execution_count": 14,
     "metadata": {},
     "output_type": "execute_result"
    }
   ],
   "source": [
    "retirement_age(20000, 0.1, 635339.63, 20) == 35"
   ]
  },
  {
   "cell_type": "code",
   "execution_count": 15,
   "metadata": {
    "colab": {
     "autoexec": {
      "startup": false,
      "wait_interval": 0
     }
    },
    "colab_type": "code",
    "id": "5V1yJGkKse52"
   },
   "outputs": [
    {
     "data": {
      "text/plain": [
       "True"
      ]
     },
     "execution_count": 15,
     "metadata": {},
     "output_type": "execute_result"
    }
   ],
   "source": [
    "retirement_age(10000, 0.1, 572749.99, 40) == 60"
   ]
  },
  {
   "cell_type": "markdown",
   "metadata": {
    "colab_type": "text",
    "id": "fz7TNoNatBtv"
   },
   "source": [
    "## Function 4:  Home Loan Affordability Calculator\n",
    "\n",
    "Build a function **`maximum_home_loan(PMT, i, n)`** that calculates the maximum home loan that your customer can afford, if they:\n",
    "- can afford to pay an amount, **`PMT`** at the END of every YEAR (with the first payment made exactly one year from now),\n",
    "- at an interest rate of **`i`**% per year, compounded annually, and\n",
    "- pay off the home over a term of **`n`** years.\n",
    "\n",
    "<br><br>\n",
    "\n",
    "***IMPORTANT***: <br>\n",
    "Your function **may not call any of the other functions you've defined in this project** \n",
    "\n",
    "Calculate the loan as the **present value of the future down-payments on the loan, discounted at an interest rate of i% per year**. (Use the present value of an annuity formula, a.k.a. discounted cash flow valuation - https://www.investopedia.com/walkthrough/corporate-finance/3/discounted-cash-flow/introduction.aspx)"
   ]
  },
  {
   "cell_type": "code",
   "execution_count": 16,
   "metadata": {
    "colab": {
     "autoexec": {
      "startup": false,
      "wait_interval": 0
     }
    },
    "colab_type": "code",
    "id": "mnK7JpmEtBtx"
   },
   "outputs": [
    {
     "name": "stdout",
     "output_type": "stream",
     "text": [
      "Maximum home loan is: 1635153.79\n",
      "Maximum home loan is: 1578934.73\n"
     ]
    },
    {
     "data": {
      "text/plain": [
       "1578934.73"
      ]
     },
     "execution_count": 16,
     "metadata": {},
     "output_type": "execute_result"
    }
   ],
   "source": [
    "### START FUNCTION 4\n",
    "def maximum_home_loan(PMT, i, n):\n",
    "    \n",
    "    '''Calculates the maximum home loan customer can afford'''\n",
    "    \n",
    "    total_present_value = 0\n",
    "    \n",
    "    for index in range(n):\n",
    "       \n",
    "        TCF = PMT/ ((1 + i)** (index + 1))\n",
    "        \n",
    "        total_present_value = total_present_value + TCF\n",
    "    \n",
    "    round_off = round(total_present_value, 2)\n",
    "    \n",
    "    PV = round_off\n",
    "    \n",
    "    print(f'Maximum home loan is: {round_off}')\n",
    "    \n",
    "    return PV\n",
    "\n",
    "\n",
    "maximum_home_loan(15000*12, 0.1045, 30)\n",
    "maximum_home_loan(15000*12, 0.1045, 25)\n",
    "\n",
    "\n",
    "### END FUNCTION 4"
   ]
  },
  {
   "cell_type": "markdown",
   "metadata": {
    "colab_type": "text",
    "id": "JmHEOMGmtBt3"
   },
   "source": [
    "***IMPORTANT***: <br>\n",
    "Your function needs to **`return`** an `float` value ***correctly rounded to 2 decimal places***.\n",
    "\n",
    "If your answer is not rounded correctly to 2 decimal places, you will receive 0 for the question.\n",
    "\n",
    "Make sure that the following tests all give a `True` result:"
   ]
  },
  {
   "cell_type": "code",
   "execution_count": 17,
   "metadata": {
    "colab": {
     "autoexec": {
      "startup": false,
      "wait_interval": 0
     }
    },
    "colab_type": "code",
    "id": "Itfbe5dTtBt4"
   },
   "outputs": [
    {
     "name": "stdout",
     "output_type": "stream",
     "text": [
      "Maximum home loan is: 1635153.79\n"
     ]
    },
    {
     "data": {
      "text/plain": [
       "True"
      ]
     },
     "execution_count": 17,
     "metadata": {},
     "output_type": "execute_result"
    }
   ],
   "source": [
    "maximum_home_loan(15000*12, 0.1045, 30) == 1635153.79"
   ]
  },
  {
   "cell_type": "code",
   "execution_count": 18,
   "metadata": {
    "colab": {
     "autoexec": {
      "startup": false,
      "wait_interval": 0
     }
    },
    "colab_type": "code",
    "id": "ET8esvX0tBuF"
   },
   "outputs": [
    {
     "name": "stdout",
     "output_type": "stream",
     "text": [
      "Maximum home loan is: 1578934.73\n"
     ]
    },
    {
     "data": {
      "text/plain": [
       "True"
      ]
     },
     "execution_count": 18,
     "metadata": {},
     "output_type": "execute_result"
    }
   ],
   "source": [
    "maximum_home_loan(15000*12, 0.1045, 25) == 1578934.73"
   ]
  },
  {
   "cell_type": "markdown",
   "metadata": {
    "colab_type": "text",
    "id": "syK8HzfTYMtg"
   },
   "source": [
    "## Function 5:  Home Loan Affordability Calculator\n",
    "\n",
    "Build a function **`maximum_home_loan_with_age(PMT, i, start_age)`** that calculates the maximum home loan that your customer can afford, if they:\n",
    "- can afford to pay an amount, **`PMT`** at the every year on their birthday (starting from their next birthday),\n",
    "- at an interest rate of **`i`**% per year, compounded annually, \n",
    "- they just turned **`n`** years old, and they\n",
    "- pay off the loan until they turn **`65 years old`**.  I.e. their last payment is on their 65th birthday.\n",
    "\n",
    "<br><br>\n",
    "\n",
    "***IMPORTANT***: <br>\n",
    "Your function **may not call any of the other functions you've defined in this project**.\n",
    "\n",
    "Assume that **`start_age`** is an `int` value, and **`start_age < 65`**.\n",
    "\n",
    "\n",
    "Just like in Function 4, calculate the loan as the **present value of the future down-payments on the loan, discounted at an interest rate of i% per year**. (Use the present value of an annuity formula, a.k.a. discounted cash flow valuation - https://www.investopedia.com/walkthrough/corporate-finance/3/discounted-cash-flow/introduction.aspx)"
   ]
  },
  {
   "cell_type": "code",
   "execution_count": 19,
   "metadata": {
    "colab": {
     "autoexec": {
      "startup": false,
      "wait_interval": 0
     }
    },
    "colab_type": "code",
    "id": "nI5bnhw_YMtm"
   },
   "outputs": [
    {
     "name": "stdout",
     "output_type": "stream",
     "text": [
      "Maximum home loan is: 1635153.79\n",
      "Maximum home loan is: 1578934.73\n"
     ]
    },
    {
     "data": {
      "text/plain": [
       "1578934.73"
      ]
     },
     "execution_count": 19,
     "metadata": {},
     "output_type": "execute_result"
    }
   ],
   "source": [
    "### START FUNCTION 5\n",
    "\n",
    "def maximum_home_loan_with_age(PMT, i, start_age):\n",
    "    \n",
    "    '''Calculates the maximum home loan customer can afford'''\n",
    "    \n",
    "    age = 65 - start_age\n",
    "    numerator = (1 - ( 1 + i)** - age)\n",
    "    \n",
    "    total_present_value = PMT * (numerator/i)\n",
    "    \n",
    "    round_off = round(total_present_value, 2)\n",
    "    \n",
    "    PV = round_off\n",
    "    \n",
    "    print(f'Maximum home loan is: {round_off}')\n",
    "    \n",
    "    return PV\n",
    "\n",
    "\n",
    "maximum_home_loan_with_age(15000*12, 0.1045, 35)\n",
    "maximum_home_loan_with_age(15000*12, 0.1045, 40)\n",
    "\n",
    "\n",
    "### END FUNCTION 5"
   ]
  },
  {
   "cell_type": "markdown",
   "metadata": {
    "colab_type": "text",
    "id": "VPyg4hufYMty"
   },
   "source": [
    "***IMPORTANT***: <br>\n",
    "Your function needs to **`return`** an `float` value ***correctly rounded to 2 decimal places***.\n",
    "\n",
    "If your answer is not rounded correctly to 2 decimal places, you will receive 0 for the question.\n",
    "\n",
    "Make sure that the following tests all give a `True` result:"
   ]
  },
  {
   "cell_type": "code",
   "execution_count": 20,
   "metadata": {
    "colab": {
     "autoexec": {
      "startup": false,
      "wait_interval": 0
     }
    },
    "colab_type": "code",
    "id": "I0zJEUcwYMt2"
   },
   "outputs": [
    {
     "name": "stdout",
     "output_type": "stream",
     "text": [
      "Maximum home loan is: 1635153.79\n"
     ]
    },
    {
     "data": {
      "text/plain": [
       "True"
      ]
     },
     "execution_count": 20,
     "metadata": {},
     "output_type": "execute_result"
    }
   ],
   "source": [
    "maximum_home_loan_with_age(15000*12, 0.1045, 35)  == 1635153.79"
   ]
  },
  {
   "cell_type": "code",
   "execution_count": 21,
   "metadata": {
    "colab": {
     "autoexec": {
      "startup": false,
      "wait_interval": 0
     }
    },
    "colab_type": "code",
    "id": "2ld9DE8dYMuE"
   },
   "outputs": [
    {
     "name": "stdout",
     "output_type": "stream",
     "text": [
      "Maximum home loan is: 1578934.73\n"
     ]
    },
    {
     "data": {
      "text/plain": [
       "True"
      ]
     },
     "execution_count": 21,
     "metadata": {},
     "output_type": "execute_result"
    }
   ],
   "source": [
    "maximum_home_loan_with_age(15000*12, 0.1045, 40) == 1578934.73"
   ]
  },
  {
   "cell_type": "markdown",
   "metadata": {
    "colab_type": "text",
    "id": "i_SzEp-rFlD4"
   },
   "source": [
    "## Function 6:  Loan Pay-Off Period Calculator\n",
    "\n",
    "Write a function **`pay_off_period(PV, PMT, i)`** that calculates the minimum number of years left until a loan is fully paid off, if:\n",
    "- the amount owned on the loan is currently equal to **`PV`**,\n",
    "- the loan is repaid at an amount, **`PMT`** at the END of every YEAR (with the first payment exactly 1 year from now),\n",
    "- at an interest rate of **`i`**% per year, compounded annually.\n",
    "\n",
    "<br><br>\n",
    "\n",
    "***IMPORTANT***: <br>\n",
    "Your function **may not call any of the other functions you've defined in this project**.\n",
    "\n",
    "\n",
    "Just like in Function 4 and 5, calculate the loan as the **present value of the future down-payments on the loan, discounted at an interest rate of i% per year**. (Use the present value of an annuity formula, a.k.a. discounted cash flow valuation - https://www.investopedia.com/walkthrough/corporate-finance/3/discounted-cash-flow/introduction.aspx)"
   ]
  },
  {
   "cell_type": "code",
   "execution_count": 22,
   "metadata": {
    "colab": {
     "autoexec": {
      "startup": false,
      "wait_interval": 0
     }
    },
    "colab_type": "code",
    "id": "Jm-0KH_1FlEA"
   },
   "outputs": [
    {
     "name": "stdout",
     "output_type": "stream",
     "text": [
      "Minimum number of years left: 30\n"
     ]
    },
    {
     "data": {
      "text/plain": [
       "30"
      ]
     },
     "execution_count": 22,
     "metadata": {},
     "output_type": "execute_result"
    }
   ],
   "source": [
    "### START FUNCTION 6\n",
    "\n",
    "def pay_off_period(PV, PMT, i):\n",
    "    '''Calculates the minimum number of years left until a loan is fully paid off'''\n",
    "    n = 0\n",
    "    #compute_interest = \n",
    " \n",
    "    while PV >PMT * ((1 -(1 + i) ** - n) / i):\n",
    "        pay_of_period = PMT *(1 - (1 + i)** -n / i)\n",
    "        n = n + 1\n",
    "    print(f'Minimum number of years left: {n}')     \n",
    "    return int(n)\n",
    "\n",
    "pay_off_period(1635153, 15000*12, 0.1045)\n",
    "\n",
    "### END FUNCTION 6"
   ]
  },
  {
   "cell_type": "markdown",
   "metadata": {
    "colab_type": "text",
    "id": "zW9xzHH2FlEK"
   },
   "source": [
    "***IMPORTANT***: <br>\n",
    "Your function needs to **`return`** an **`int`**.\n",
    "\n",
    "Make sure that the following tests all give a `True` result:"
   ]
  },
  {
   "cell_type": "code",
   "execution_count": 23,
   "metadata": {
    "colab": {
     "autoexec": {
      "startup": false,
      "wait_interval": 0
     }
    },
    "colab_type": "code",
    "id": "ijilqZ-OFlEN"
   },
   "outputs": [
    {
     "name": "stdout",
     "output_type": "stream",
     "text": [
      "Minimum number of years left: 30\n"
     ]
    },
    {
     "data": {
      "text/plain": [
       "True"
      ]
     },
     "execution_count": 23,
     "metadata": {},
     "output_type": "execute_result"
    }
   ],
   "source": [
    "pay_off_period(1635153, 15000*12, 0.1045) == 30"
   ]
  },
  {
   "cell_type": "code",
   "execution_count": 24,
   "metadata": {
    "colab": {
     "autoexec": {
      "startup": false,
      "wait_interval": 0
     }
    },
    "colab_type": "code",
    "id": "XiU8DcpfFlEY"
   },
   "outputs": [
    {
     "name": "stdout",
     "output_type": "stream",
     "text": [
      "Minimum number of years left: 25\n"
     ]
    },
    {
     "data": {
      "text/plain": [
       "True"
      ]
     },
     "execution_count": 24,
     "metadata": {},
     "output_type": "execute_result"
    }
   ],
   "source": [
    "pay_off_period(1578934, 15000*12, 0.1045) == 25"
   ]
  },
  {
   "cell_type": "markdown",
   "metadata": {
    "colab_type": "text",
    "id": "8HrDTdcsGJL0"
   },
   "source": [
    "## Function 7:  Investment Calculator\n",
    "\n",
    "Write a function **`investment(PMT, n, i)`** that calculates your customer's savings at some point in the future, if:\n",
    "- an amount  is invested at the END of every year, starting with amount of **`PMT`** at the end of this year,\n",
    "- at an interest rate of **`i`**% per year, compounded annually,\n",
    "- the investment amount **doubles every second year** (cumulatively).\n",
    "\n",
    "<br><br>\n",
    "\n",
    "***IMPORTANT***: <br>\n",
    "Your function **may not call any of the other functions you've defined in this project**."
   ]
  },
  {
   "cell_type": "code",
   "execution_count": 25,
   "metadata": {
    "colab": {
     "autoexec": {
      "startup": false,
      "wait_interval": 0
     }
    },
    "colab_type": "code",
    "id": "mCikydTGGJMI"
   },
   "outputs": [
    {
     "name": "stdout",
     "output_type": "stream",
     "text": [
      "Savings are: 1954935238.4696665\n"
     ]
    },
    {
     "data": {
      "text/plain": [
       "1954935238.47"
      ]
     },
     "execution_count": 25,
     "metadata": {},
     "output_type": "execute_result"
    }
   ],
   "source": [
    "### START FUNCTION 7\n",
    "\n",
    "def investment(PMT, n, i):\n",
    "    '''Calculates customer's savings at some point in the future'''\n",
    "    \n",
    "    investment_balance = PMT\n",
    "    total_balance = 0\n",
    "    counter = 0\n",
    " \n",
    "    for index in range(n):\n",
    "        counter = counter + 1\n",
    "     \n",
    "        if counter == 2:\n",
    "            investment_balance *= 2\n",
    "            counter = 0\n",
    "         \n",
    "        interest = total_balance * i\n",
    "        total_balance += interest\n",
    "        total_balance += investment_balance\n",
    "    \n",
    "    print(f'Savings are: {total_balance}') \n",
    "    return round(total_balance, 2)\n",
    "\n",
    "investment(15000, 30, 0.1045)\n",
    "### END FUNCTION 7"
   ]
  },
  {
   "cell_type": "markdown",
   "metadata": {
    "colab_type": "text",
    "id": "d4Cm7kg0GJMV"
   },
   "source": [
    "***IMPORTANT***: <br>\n",
    "Your function needs to **`return`** an `float` value ***correctly rounded to 2 decimal places***.\n",
    "\n",
    "If your answer is not rounded correctly to 2 decimal places, you will receive 0 for the question.\n",
    "\n",
    "Make sure that the following tests all give a `True` result:"
   ]
  },
  {
   "cell_type": "code",
   "execution_count": 26,
   "metadata": {
    "colab": {
     "autoexec": {
      "startup": false,
      "wait_interval": 0
     }
    },
    "colab_type": "code",
    "id": "CpfHhDtrGJMZ"
   },
   "outputs": [
    {
     "name": "stdout",
     "output_type": "stream",
     "text": [
      "Savings are: 1954935238.4696665\n"
     ]
    },
    {
     "data": {
      "text/plain": [
       "True"
      ]
     },
     "execution_count": 26,
     "metadata": {},
     "output_type": "execute_result"
    }
   ],
   "source": [
    "investment(15000, 30, 0.1045) == 1954935238.47"
   ]
  },
  {
   "cell_type": "code",
   "execution_count": 27,
   "metadata": {
    "colab": {
     "autoexec": {
      "startup": false,
      "wait_interval": 0
     }
    },
    "colab_type": "code",
    "id": "9UG1tJqCGJMj"
   },
   "outputs": [
    {
     "name": "stdout",
     "output_type": "stream",
     "text": [
      "Savings are: 41728281751.15759\n"
     ]
    },
    {
     "data": {
      "text/plain": [
       "True"
      ]
     },
     "execution_count": 27,
     "metadata": {},
     "output_type": "execute_result"
    }
   ],
   "source": [
    "investment(10000, 40, 0.1045) == 41728281751.16"
   ]
  },
  {
   "cell_type": "code",
   "execution_count": 0,
   "metadata": {
    "colab": {
     "autoexec": {
      "startup": false,
      "wait_interval": 0
     }
    },
    "colab_type": "code",
    "id": "J8FB4c0grwy_"
   },
   "outputs": [],
   "source": []
  }
 ],
 "metadata": {
  "colab": {
   "collapsed_sections": [],
   "default_view": {},
   "name": "Project_Student.ipynb",
   "provenance": [],
   "version": "0.3.2",
   "views": {}
  },
  "kernelspec": {
   "display_name": "Python 3",
   "language": "python",
   "name": "python3"
  },
  "language_info": {
   "codemirror_mode": {
    "name": "ipython",
    "version": 3
   },
   "file_extension": ".py",
   "mimetype": "text/x-python",
   "name": "python",
   "nbconvert_exporter": "python",
   "pygments_lexer": "ipython3",
   "version": "3.6.5"
  }
 },
 "nbformat": 4,
 "nbformat_minor": 1
}
