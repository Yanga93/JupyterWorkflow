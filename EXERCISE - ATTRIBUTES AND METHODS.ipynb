{
 "cells": [
  {
   "cell_type": "markdown",
   "metadata": {},
   "source": [
    "# EXERCISE - ATTRIBUTES AND METHODS\n",
    "\n",
    "\n",
    "Write an object oriented program to:\n",
    "\n",
    "1. create a precious stone.\n",
    "\n",
    "2. Not more than 5 precious stones can be held in possession at a\n",
    "   given point of time. \n",
    "   \n",
    "3. If there are more than 5 precious stones,\n",
    "   delete the first stone.\n",
    "   \n",
    "4. Store the new one."
   ]
  },
  {
   "cell_type": "code",
   "execution_count": 21,
   "metadata": {},
   "outputs": [
    {
     "name": "stdout",
     "output_type": "stream",
     "text": [
      "Maximum number of Stones to be created :  3\n",
      "Enter Precious Stone 1:  a\n",
      "Enter Precious Stone 2:  b\n",
      "Enter Precious Stone 3:  c\n",
      "List before delete the first item ['a', 'b', 'c']\n",
      "List after deleted first item ['b', 'c']\n",
      "Store a new stone: z\n",
      "List after stored a new stone ['b', 'c', 'z']\n"
     ]
    },
    {
     "data": {
      "text/plain": [
       "['b', 'c', 'z']"
      ]
     },
     "execution_count": 21,
     "metadata": {},
     "output_type": "execute_result"
    }
   ],
   "source": [
    "class Stone:\n",
    "    \n",
    "    # instance attribute\n",
    "    def __init__(self, name):\n",
    "        self.name = name\n",
    "        \n",
    "        \n",
    "class Container:\n",
    "    def __init__(self, stone_list):\n",
    "        self.stone_list = []\n",
    "        \n",
    "    #instance method\n",
    "    def addStone(self):\n",
    "        max_list = int(input('Maximum number of Stones to be created :  '))\n",
    "        i = 0\n",
    "        \n",
    "        while len(self.stone_list) < max_list:\n",
    "            i += 1\n",
    "            stone = input('Enter Precious Stone %d:  '%i)\n",
    "            if stone == '':\n",
    "                print('Please type stone')\n",
    "            self.stone_list.append(stone)\n",
    "        print('List before delete the first item', self.stone_list)\n",
    "        return self.stone_list\n",
    "    \n",
    "    \n",
    "    def delFirstStone(self):\n",
    "        my_list = self.stone_list\n",
    "#         my_list.pop(0)\n",
    "        del my_list[0]\n",
    "        print(\"List after deleted first item\", my_list )\n",
    "        return my_list\n",
    "    \n",
    "    def storeNewStone(self):\n",
    "        my_list = self.stone_list\n",
    "        stone = input('Store a new stone: ')\n",
    "        my_list.append(stone)\n",
    "        print('List after stored a new stone', my_list)\n",
    "        return my_list\n",
    "        \n",
    "        \n",
    "# instantiate the Stone class\n",
    "stone = Stone(\"Gem\")\n",
    "stone.name\n",
    "\n",
    "# instantiate the Container class\n",
    "holder = Container(stone)\n",
    "holder.addStone()\n",
    "holder.delFirstStone()\n",
    "holder.storeNewStone()\n"
   ]
  },
  {
   "cell_type": "code",
   "execution_count": null,
   "metadata": {},
   "outputs": [],
   "source": []
  }
 ],
 "metadata": {
  "kernelspec": {
   "display_name": "Python 3",
   "language": "python",
   "name": "python3"
  },
  "language_info": {
   "codemirror_mode": {
    "name": "ipython",
    "version": 3
   },
   "file_extension": ".py",
   "mimetype": "text/x-python",
   "name": "python",
   "nbconvert_exporter": "python",
   "pygments_lexer": "ipython3",
   "version": "3.6.5"
  }
 },
 "nbformat": 4,
 "nbformat_minor": 2
}
