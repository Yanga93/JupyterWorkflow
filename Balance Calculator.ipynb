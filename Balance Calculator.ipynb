{
 "cells": [
  {
   "cell_type": "markdown",
   "metadata": {},
   "source": [
    "# Balance Calculator"
   ]
  },
  {
   "cell_type": "markdown",
   "metadata": {},
   "source": [
    "Everything costs money... sometimes it is hard to keep track of our spending. In this challenge, you will write code to monitor spending on a bank account. "
   ]
  },
  {
   "cell_type": "markdown",
   "metadata": {},
   "source": [
    "## Honour Code"
   ]
  },
  {
   "cell_type": "markdown",
   "metadata": {},
   "source": [
    "I **YOUR NAME, YOUR SURNAME**, confirm - by submitting this document - that the solutions in this notebook are a result of my own work and that I abide by the EDSA honour code (https://drive.google.com/file/d/1QDCjGZJ8-FmJE3bZdIQNwnJyQKPhHZBn/view?usp=sharing).  \n",
    "\n",
    "Non-compliance with the honour code constitutes a material breach of contract."
   ]
  },
  {
   "cell_type": "markdown",
   "metadata": {},
   "source": [
    "# Question 1: Cost calculator"
   ]
  },
  {
   "cell_type": "markdown",
   "metadata": {},
   "source": [
    "Define and complete a function called `spend` that tells us how much money we have after we buy something.\n",
    "\n",
    "`spend` must take **two** parameters:\n",
    "1. Cash you have before purchase (Balance)\n",
    "2. Money spent (Cost)\n",
    "\n",
    "`spend` must return how much money we have left (the new balance) after the purchase. "
   ]
  },
  {
   "cell_type": "markdown",
   "metadata": {},
   "source": [
    "## Sample I/O\n",
    "```python\n",
    "spend(1000, 500)\n",
    "```\n",
    "    500\n",
    "---\n",
    "```python\n",
    "spend(500, 1000)\n",
    "```\n",
    "    -500\n",
    "---"
   ]
  },
  {
   "cell_type": "markdown",
   "metadata": {},
   "source": [
    "## Write your code for this question in the cell below"
   ]
  },
  {
   "cell_type": "code",
   "execution_count": 3,
   "metadata": {
    "nbgrader": {
     "grade": false,
     "grade_id": "cell-a4742f59416f3b2b",
     "locked": false,
     "schema_version": 1,
     "solution": true
    }
   },
   "outputs": [],
   "source": [
    "## Code your spend function in this cell##\n",
    "def spend(balance, spend):\n",
    "    new_bal = balance - spend\n",
    "    \n",
    "    return new_bal\n",
    "\n",
    "## end of function ##"
   ]
  },
  {
   "cell_type": "markdown",
   "metadata": {
    "nbgrader": {
     "grade": false,
     "grade_id": "cell-a4742f59416f3b2b",
     "locked": false,
     "schema_version": 1,
     "solution": true
    }
   },
   "source": [
    "<a id='spend_tests'></a>\n",
    "### Make sure the following cells output `True`:"
   ]
  },
  {
   "cell_type": "code",
   "execution_count": 4,
   "metadata": {
    "nbgrader": {
     "grade": false,
     "grade_id": "cell-a4742f59416f3b2b",
     "locked": false,
     "schema_version": 1,
     "solution": true
    }
   },
   "outputs": [
    {
     "data": {
      "text/plain": [
       "True"
      ]
     },
     "execution_count": 4,
     "metadata": {},
     "output_type": "execute_result"
    }
   ],
   "source": [
    "spend(1000, 500) == 500"
   ]
  },
  {
   "cell_type": "code",
   "execution_count": 5,
   "metadata": {
    "nbgrader": {
     "grade": false,
     "grade_id": "cell-a4742f59416f3b2b",
     "locked": false,
     "schema_version": 1,
     "solution": true
    }
   },
   "outputs": [
    {
     "data": {
      "text/plain": [
       "True"
      ]
     },
     "execution_count": 5,
     "metadata": {},
     "output_type": "execute_result"
    }
   ],
   "source": [
    "spend(500, 1000) == -500"
   ]
  },
  {
   "cell_type": "markdown",
   "metadata": {
    "nbgrader": {
     "grade": false,
     "grade_id": "cell-a4742f59416f3b2b",
     "locked": false,
     "schema_version": 1,
     "solution": true
    }
   },
   "source": [
    "___\n",
    "---"
   ]
  },
  {
   "cell_type": "markdown",
   "metadata": {
    "nbgrader": {
     "grade": false,
     "grade_id": "cell-a4742f59416f3b2b",
     "locked": false,
     "schema_version": 1,
     "solution": true
    }
   },
   "source": [
    "# Question 2: Balance feedback"
   ]
  },
  {
   "cell_type": "markdown",
   "metadata": {
    "nbgrader": {
     "grade": false,
     "grade_id": "cell-a4742f59416f3b2b",
     "locked": false,
     "schema_version": 1,
     "solution": true
    }
   },
   "source": [
    "Some accounts let us spend money on credit. If our account balance is negative, then our account is _overdrawn_."
   ]
  },
  {
   "cell_type": "markdown",
   "metadata": {
    "nbgrader": {
     "grade": false,
     "grade_id": "cell-a4742f59416f3b2b",
     "locked": false,
     "schema_version": 1,
     "solution": true
    }
   },
   "source": [
    "Define and complete a function called `balance` that tells us how much money is on our account, and if it is overdrawn.\n",
    "\n",
    "`balance` must take **one** parameter:\n",
    "1. Money in a the account (balance)\n",
    "\n",
    "`balance` must return:\n",
    "\n",
    "* `'R<balance> remaining'` when the account has a positive balance\n",
    "* `'Overdrawn by R<balance>'` when the account has a negative balance"
   ]
  },
  {
   "cell_type": "markdown",
   "metadata": {
    "nbgrader": {
     "grade": false,
     "grade_id": "cell-a4742f59416f3b2b",
     "locked": false,
     "schema_version": 1,
     "solution": true
    }
   },
   "source": [
    "## Sample I/O\n",
    "```python\n",
    "balance(0)\n",
    "```\n",
    "    'R0 remaining'\n",
    "---\n",
    "```python\n",
    "spend(699)\n",
    "```\n",
    "    'R699 remaining'\n",
    "---\n",
    "```python\n",
    "balance(-750)\n",
    "```\n",
    "    'Overdrawn by R750'\n",
    "**Note:** Output must be *EXACTLY* the same; pay attention to punctuation, signs, spelling, and capitalization. "
   ]
  },
  {
   "cell_type": "markdown",
   "metadata": {},
   "source": [
    "## Write your code for this question in the cell below"
   ]
  },
  {
   "cell_type": "code",
   "execution_count": 6,
   "metadata": {},
   "outputs": [
    {
     "data": {
      "text/plain": [
       "'R0 remaining'"
      ]
     },
     "execution_count": 6,
     "metadata": {},
     "output_type": "execute_result"
    }
   ],
   "source": [
    "## Code your balance function in this cell##\n",
    "def balance(money):\n",
    "    \n",
    "    if money < 0:\n",
    "        money = money * -1\n",
    "        results = (f'Overdrawn by R{money}')\n",
    "    \n",
    "    else:\n",
    "        results = (f'R{money} remaining')\n",
    "    \n",
    "    return results\n",
    "## end of balance function ##"
   ]
  },
  {
   "cell_type": "markdown",
   "metadata": {},
   "source": [
    "<a id='balance_tests'></a>\n",
    "## Make sure the following cells output `True`:"
   ]
  },
  {
   "cell_type": "code",
   "execution_count": 7,
   "metadata": {},
   "outputs": [
    {
     "data": {
      "text/plain": [
       "True"
      ]
     },
     "execution_count": 7,
     "metadata": {},
     "output_type": "execute_result"
    }
   ],
   "source": [
    "balance(0) == 'R0 remaining'"
   ]
  },
  {
   "cell_type": "code",
   "execution_count": 8,
   "metadata": {},
   "outputs": [
    {
     "data": {
      "text/plain": [
       "True"
      ]
     },
     "execution_count": 8,
     "metadata": {},
     "output_type": "execute_result"
    }
   ],
   "source": [
    "balance(699) == 'R699 remaining'"
   ]
  },
  {
   "cell_type": "code",
   "execution_count": 9,
   "metadata": {},
   "outputs": [
    {
     "data": {
      "text/plain": [
       "True"
      ]
     },
     "execution_count": 9,
     "metadata": {},
     "output_type": "execute_result"
    }
   ],
   "source": [
    "balance(-750) == 'Overdrawn by R750'"
   ]
  },
  {
   "cell_type": "markdown",
   "metadata": {},
   "source": [
    "___\n",
    "---"
   ]
  },
  {
   "cell_type": "markdown",
   "metadata": {},
   "source": [
    "# Question 3: Balance tracker"
   ]
  },
  {
   "cell_type": "markdown",
   "metadata": {},
   "source": [
    "Now let's write code to keep track of our balance while we spend!"
   ]
  },
  {
   "cell_type": "markdown",
   "metadata": {},
   "source": [
    "Define and complete a function called `track` that uses both `spend` and `balance` to monitor how much money we have in our account, (or how much we owe the bank). Our account has a credit limit of R10,000.00\n",
    "\n",
    "`track` must take **two** parameters:\n",
    "\n",
    "1. A starting balance\n",
    "2. A `List` of payments\n",
    "\n",
    "For every payment in the list, `track` must `print` the cost of and the new balance after the payment is made:\n",
    "* `'You spent R<cost>. R<new balance> remaining.'`\n",
    "If a payment costs more than our credit limit allows, `track` must `print`:\n",
    "* `'You do not have enough credit.'`\n",
    "\n",
    "**Hint:** track must **print**, it must not **return**\n",
    "\n",
    "**Hint** call your `track` and `balance` functions."
   ]
  },
  {
   "cell_type": "markdown",
   "metadata": {},
   "source": [
    "## Sample I/O\n",
    "```python\n",
    "track(10000, [1000,50.50,9750,75])\n",
    "```\n",
    "    You spent R1000. R9000 remaining\n",
    "    You spent R50.5. R8949.5 remaining\n",
    "    You spent R9750. Overdrawn by R800.5\n",
    "    You spent R75. Overdrawn by R875.5\n",
    "---\n",
    "```python\n",
    "track(5000, [10500,5000,5,5])\n",
    "```\n",
    "    You spent R10500. Overdrawn by R5500\n",
    "    You do not have enough credit.\n",
    "    You spent R5. Overdrawn by R5505\n",
    "    You spent R5. Overdrawn by R5510\n",
    "---\n",
    "**Note:** Output must be *EXACTLY* the same; pay attention to punctuation, signs, spelling, and capitalization. "
   ]
  },
  {
   "cell_type": "markdown",
   "metadata": {},
   "source": [
    "## Write your code for this question in the cell below"
   ]
  },
  {
   "cell_type": "code",
   "execution_count": 49,
   "metadata": {},
   "outputs": [],
   "source": [
    "## Code your track function in this cell##\n",
    "def track(avail, costList):\n",
    "    limit = -10000 \n",
    "    for cost in costList: \n",
    "        if spend(avail,cost) < limit: ######if cost will break limit\n",
    "            print(\"You do not have enough credit.\")\n",
    "        else:\n",
    "            avail = spend(avail,cost) \n",
    "            print(\"You spent R{0}.\".format(cost), balance(avail))\n",
    "\n",
    "## end of balance function ##"
   ]
  },
  {
   "cell_type": "markdown",
   "metadata": {},
   "source": [
    "<a id='track_output'></a>\n",
    "## Make sure the following cell prints the same message twice:"
   ]
  },
  {
   "cell_type": "code",
   "execution_count": 50,
   "metadata": {},
   "outputs": [
    {
     "name": "stdout",
     "output_type": "stream",
     "text": [
      "\n",
      "You spent R1000. R9000 remaining\n",
      "You spent R50.5. R8949.5 remaining\n",
      "You spent R9750. Overdrawn by R800.5\n",
      "You spent R75. Overdrawn by R875.5\n",
      "\n"
     ]
    }
   ],
   "source": [
    "track(10000, [1000,50.50,9750,75])\n",
    "print()\n",
    "print('You spent R1000. R9000 remaining\\nYou spent R50.5. R8949.5 remaining\\nYou spent R9750. Overdrawn by R800.5\\nYou spent R75. Overdrawn by R875.5\\n')"
   ]
  },
  {
   "cell_type": "markdown",
   "metadata": {},
   "source": [
    "<a id='track_output'></a>\n",
    "## Make sure the following cell prints the same message twice:"
   ]
  },
  {
   "cell_type": "code",
   "execution_count": 51,
   "metadata": {},
   "outputs": [
    {
     "name": "stdout",
     "output_type": "stream",
     "text": [
      "\n",
      "You spent R10500. Overdrawn by R5500\n",
      "You do not have enough credit.\n",
      "You spent R5. Overdrawn by R5505\n",
      "You spent R5. Overdrawn by R5510\n",
      "\n"
     ]
    }
   ],
   "source": [
    "track(5000, [10500,5000,5,5])\n",
    "print()\n",
    "print('You spent R10500. Overdrawn by R5500\\nYou do not have enough credit.\\nYou spent R5. Overdrawn by R5505\\nYou spent R5. Overdrawn by R5510\\n')"
   ]
  }
 ],
 "metadata": {
  "celltoolbar": "Create Assignment",
  "kernelspec": {
   "display_name": "Python 3",
   "language": "python",
   "name": "python3"
  },
  "language_info": {
   "codemirror_mode": {
    "name": "ipython",
    "version": 3
   },
   "file_extension": ".py",
   "mimetype": "text/x-python",
   "name": "python",
   "nbconvert_exporter": "python",
   "pygments_lexer": "ipython3",
   "version": "3.6.5"
  },
  "toc": {
   "base_numbering": 1,
   "nav_menu": {},
   "number_sections": true,
   "sideBar": true,
   "skip_h1_title": false,
   "title_cell": "Table of Contents",
   "title_sidebar": "Contents",
   "toc_cell": false,
   "toc_position": {},
   "toc_section_display": true,
   "toc_window_display": false
  }
 },
 "nbformat": 4,
 "nbformat_minor": 2
}
