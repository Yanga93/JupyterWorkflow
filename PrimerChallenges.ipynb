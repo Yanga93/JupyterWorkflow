{
 "cells": [
  {
   "cell_type": "markdown",
   "metadata": {},
   "source": [
    "# Primer challenge 1"
   ]
  },
  {
   "cell_type": "markdown",
   "metadata": {},
   "source": [
    "Write a function that takes in a natural number,  and tests if it is a prime number.\n",
    "\n",
    "*Sample function call*\n",
    "\n",
    "    is_prime(1)\n",
    "\n",
    "*Sample Output*\n",
    "\n",
    "    1 is prime"
   ]
  },
  {
   "cell_type": "code",
   "execution_count": 2,
   "metadata": {},
   "outputs": [
    {
     "name": "stdout",
     "output_type": "stream",
     "text": [
      "16 is not prime\n"
     ]
    }
   ],
   "source": [
    "def is_prime(n):\n",
    "    \n",
    "    '''takes in a natural number,  and tests if it is a prime number or not prime'''\n",
    "    if n % 2 != 0:\n",
    "        \n",
    "        print(f'{n} is prime')\n",
    "    else:\n",
    "        print(f'{n} is not prime')\n",
    "        \n",
    "    \n",
    "is_prime(16)"
   ]
  },
  {
   "cell_type": "markdown",
   "metadata": {},
   "source": [
    "# Primer challenge 2"
   ]
  },
  {
   "cell_type": "markdown",
   "metadata": {},
   "source": [
    "Write a function that takes in two natural numbers, and prints them and all numbers in-between on separate lines and says if the number is odd or even.\n",
    "\n",
    "*Sample function call*\n",
    "\n",
    "```odd_even(1, 8)```\n",
    "\n",
    "*Sample Output*\n",
    "```1: is odd\n",
    "2: is even\n",
    "3: is odd \n",
    "4: is even\n",
    "5: is odd\n",
    "6: is even\n",
    "7: is odd```"
   ]
  },
  {
   "cell_type": "code",
   "execution_count": 20,
   "metadata": {},
   "outputs": [
    {
     "name": "stdout",
     "output_type": "stream",
     "text": [
      "1: is odd\n",
      "2: is even\n",
      "3: is odd\n",
      "4: is even\n",
      "5: is odd\n",
      "6: is even\n",
      "7: is odd\n",
      "8: is even\n"
     ]
    }
   ],
   "source": [
    "def odd_even(odd, even):\n",
    "    \n",
    "    '''This function takes in a two numbers as parameter and check if even_odd'''\n",
    "    \n",
    "    tuple_list = list(range(odd, even))\n",
    "   \n",
    "    for num in tuple_list:\n",
    "        if num % 2 == 0:\n",
    "            \n",
    "            print(f'{num}: is even')\n",
    "        \n",
    "        else:\n",
    "          \n",
    "            print(f'{num}: is odd')\n",
    "        \n",
    "odd_even(1, 9)"
   ]
  },
  {
   "cell_type": "markdown",
   "metadata": {},
   "source": [
    "# Primer challenge 3"
   ]
  },
  {
   "cell_type": "markdown",
   "metadata": {},
   "source": [
    "Write a function that takes in a list of natural numbers and prints them out on separate lines, saying if they are odd or even, and if they are prime.\n",
    "\n",
    "*Sample function call*\n",
    "\n",
    "```numList = [1,2,3,4,10,14,5,6,7,8]\n",
    "odd_even(numList)```\n",
    " \n",
    " \n",
    " *Sample Output*\n",
    " \n",
    "```1: is odd and prime\n",
    "2: is even and prime\n",
    "3: is odd  and prime\n",
    "4: is even\n",
    "10: is even\n",
    "14: is even\n",
    "5: is odd and prime\n",
    "6: is even\n",
    "7: is odd and prime\n",
    "8: is even```"
   ]
  },
  {
   "cell_type": "code",
   "execution_count": 34,
   "metadata": {},
   "outputs": [
    {
     "name": "stdout",
     "output_type": "stream",
     "text": [
      "1: is odd and prime\n",
      "2: is even and prime\n",
      "3: is odd and prime\n",
      "4: is even\n",
      "10: is even\n",
      "14: is even\n",
      "5: is odd and prime\n",
      "6: is even\n",
      "7: is odd and prime\n",
      "8: is even\n",
      "9: is odd\n",
      "12: is even\n",
      "15: is odd\n"
     ]
    }
   ],
   "source": [
    "numList = [1,2,3,4,10,14,5,6,7,8, 9, 12, 15]\n",
    "\n",
    "def odd_even(numList):\n",
    "    ''' takes in a list of natural numbers print if they are odd or odd and prime, even, even and prime'''\n",
    "    \n",
    "    for n in numList:\n",
    "        if n == 2:\n",
    "            print(f'{n}: is even and prime')\n",
    "        \n",
    "        elif n % 2 == 0:\n",
    "            print(f'{n}: is even')\n",
    "        \n",
    "        elif n == 3:\n",
    "            print(f'{n}: is odd and prime')\n",
    "        \n",
    "        elif n % 2 != 0 and n % 3 == 0:\n",
    "               print(f'{n}: is odd')\n",
    "        \n",
    "        else:\n",
    "                print (f'{n}: is odd and prime')\n",
    "    \n",
    "odd_even(numList)"
   ]
  },
  {
   "cell_type": "code",
   "execution_count": null,
   "metadata": {},
   "outputs": [],
   "source": []
  }
 ],
 "metadata": {
  "kernelspec": {
   "display_name": "Python 3",
   "language": "python",
   "name": "python3"
  },
  "language_info": {
   "codemirror_mode": {
    "name": "ipython",
    "version": 3
   },
   "file_extension": ".py",
   "mimetype": "text/x-python",
   "name": "python",
   "nbconvert_exporter": "python",
   "pygments_lexer": "ipython3",
   "version": "3.6.5"
  }
 },
 "nbformat": 4,
 "nbformat_minor": 2
}
