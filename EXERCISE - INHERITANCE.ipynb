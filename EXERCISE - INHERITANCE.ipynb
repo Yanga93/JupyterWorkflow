{
 "cells": [
  {
   "cell_type": "markdown",
   "metadata": {},
   "source": [
    "# Write an object oriented program that performs the following tasks:\n",
    "    \n",
    "1. Create a class called Chair from the base class Furniture\n",
    "2. Teakwood should be the type of furniture that is used by all furnitures by\n",
    "default\n",
    "3. The user can be given an option to change the type of wood used for chair if\n",
    "he wishes to\n",
    "4. The number of legs of a chair should be a property that should not be altered\n",
    "outside the class"
   ]
  },
  {
   "cell_type": "code",
   "execution_count": 15,
   "metadata": {},
   "outputs": [
    {
     "name": "stdout",
     "output_type": "stream",
     "text": [
      "Wood type: Teakwood\n",
      "You can change type of wood here:  Oak\n",
      "New wood type is: Oak\n"
     ]
    }
   ],
   "source": [
    "class Furniture:\n",
    "    \n",
    "    teakwood = \"Teakwood\"\n",
    "    __numberOfLegs = 4 \n",
    "\n",
    "class Chair(Furniture):\n",
    "    def __init__(self):\n",
    "        print(\"Wood type: {}\".format(self.teakwood))\n",
    "\n",
    "        \n",
    "chair = Chair()\n",
    "\n",
    "#change the type of wood\n",
    "chair.teakwood = input(\"You can change type of wood here:  \")\n",
    "print(\"New wood type is: {}\".format(chair.teakwood))\n",
    "\n",
    "\n"
   ]
  },
  {
   "cell_type": "code",
   "execution_count": null,
   "metadata": {},
   "outputs": [],
   "source": []
  },
  {
   "cell_type": "code",
   "execution_count": null,
   "metadata": {},
   "outputs": [],
   "source": []
  },
  {
   "cell_type": "code",
   "execution_count": null,
   "metadata": {},
   "outputs": [],
   "source": []
  },
  {
   "cell_type": "code",
   "execution_count": null,
   "metadata": {},
   "outputs": [],
   "source": []
  },
  {
   "cell_type": "code",
   "execution_count": null,
   "metadata": {},
   "outputs": [],
   "source": []
  },
  {
   "cell_type": "code",
   "execution_count": null,
   "metadata": {},
   "outputs": [],
   "source": []
  }
 ],
 "metadata": {
  "kernelspec": {
   "display_name": "Python 3",
   "language": "python",
   "name": "python3"
  },
  "language_info": {
   "codemirror_mode": {
    "name": "ipython",
    "version": 3
   },
   "file_extension": ".py",
   "mimetype": "text/x-python",
   "name": "python",
   "nbconvert_exporter": "python",
   "pygments_lexer": "ipython3",
   "version": "3.6.5"
  }
 },
 "nbformat": 4,
 "nbformat_minor": 2
}
