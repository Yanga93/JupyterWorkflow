{
 "cells": [
  {
   "cell_type": "markdown",
   "metadata": {},
   "source": [
    "# EXERCISE - ATTRIBUTES AND METHODS\n",
    "\n",
    "\n",
    "Write an object oriented program to:\n",
    "\n",
    "1. create a precious stone.\n",
    "\n",
    "2. Not more than 5 precious stones can be held in possession at a\n",
    "   given point of time. \n",
    "   \n",
    "3. If there are more than 5 precious stones,\n",
    "   delete the first stone.\n",
    "   \n",
    "4. Store the new one."
   ]
  },
  {
   "cell_type": "code",
   "execution_count": 2,
   "metadata": {},
   "outputs": [
    {
     "name": "stdout",
     "output_type": "stream",
     "text": [
      "Maximum number of Stones to be created :  3\n",
      "Enter Precious Stone 1:  a\n",
      "Enter Precious Stone 2:  d\n",
      "Enter Precious Stone 3:  f\n",
      "This is list with stones ['a', 'd', 'f']\n"
     ]
    }
   ],
   "source": [
    "class Stone:\n",
    "    \n",
    "    # instance attribute\n",
    "    def __init__(self, name):\n",
    "        self.name = name\n",
    "        \n",
    "        \n",
    "class Container:\n",
    "    def __init__(self, stone_list):\n",
    "        self.stone_list = []\n",
    "        \n",
    "    #instance method\n",
    "    def addStone(self):\n",
    "        max_list = int(input('Maximum number of Stones to be created :  '))\n",
    "        i = 0\n",
    "        \n",
    "        while len(self.stone_list) < max_list:\n",
    "            i += 1\n",
    "            stone = input('Enter Precious Stone %d:  '%i)\n",
    "            if stone == '':\n",
    "                print('Please type stone')\n",
    "            self.stone_list.append(stone)\n",
    "            #print(self.stone_list)\n",
    "        return self.stone_list\n",
    "    \n",
    "    \n",
    "    def delFirstStone(self):\n",
    "        pass\n",
    "        print(\"This is list with stones\", self.stone_list)\n",
    "#         for gem_stone in stone_list:\n",
    "#             if len(stone_list) == max_list:\n",
    "#                 first_stone = len(stone_list) - max_list\n",
    "#                 stone_list.pop(first_stone)\n",
    "#                 #print(stone_list)\n",
    "#             else:\n",
    "#                 break\n",
    "    \n",
    "    def storeNewPreStone(self):\n",
    "        pass\n",
    "    \n",
    "\n",
    "\n",
    "# instantiate the PreciousStone class\n",
    "#gem_stones = Prec_Stone(\"Gem\")\n",
    "stone = Stone(\"Gem\")\n",
    "stone.name\n",
    "\n",
    "# instantiate the Container class\n",
    "holder = Container(stone)\n",
    "holder.addStone()\n",
    "holder.delFirstStone()\n"
   ]
  },
  {
   "cell_type": "code",
   "execution_count": null,
   "metadata": {},
   "outputs": [],
   "source": []
  }
 ],
 "metadata": {
  "kernelspec": {
   "display_name": "Python 3",
   "language": "python",
   "name": "python3"
  },
  "language_info": {
   "codemirror_mode": {
    "name": "ipython",
    "version": 3
   },
   "file_extension": ".py",
   "mimetype": "text/x-python",
   "name": "python",
   "nbconvert_exporter": "python",
   "pygments_lexer": "ipython3",
   "version": "3.6.5"
  }
 },
 "nbformat": 4,
 "nbformat_minor": 2
}
